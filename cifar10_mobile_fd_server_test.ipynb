{
 "cells": [
  {
   "cell_type": "markdown",
   "metadata": {
    "pycharm": {
     "name": "#%% md\n"
    }
   },
   "source": [
    "# CIFAR10 Federated Mobilenet Server Side\n",
    "This code is the server part of CIFAR10 federated mobilenet for **multi** client and a server."
   ]
  },
  {
   "cell_type": "markdown",
   "metadata": {
    "pycharm": {
     "name": "#%% md\n"
    }
   },
   "source": []
  },
  {
   "cell_type": "markdown",
   "metadata": {
    "pycharm": {
     "name": "#%% md\n"
    }
   },
   "source": [
    "## Setting variables"
   ]
  },
  {
   "cell_type": "markdown",
   "metadata": {
    "pycharm": {
     "name": "#%% md\n"
    }
   },
   "source": []
  },
  {
   "cell_type": "code",
   "execution_count": 16,
   "metadata": {
    "pycharm": {
     "name": "#%%\n"
    }
   },
   "outputs": [],
   "source": [
    "rounds = 50\n",
    "local_epoch = 1\n",
    "users = 8 # number of clients\n"
   ]
  },
  {
   "cell_type": "code",
   "execution_count": 17,
   "metadata": {
    "pycharm": {
     "name": "#%%\n"
    }
   },
   "outputs": [],
   "source": [
    "import os\n",
    "import h5py\n",
    "\n",
    "import socket\n",
    "import struct\n",
    "import pickle\n",
    "import sys\n",
    "\n",
    "import torch\n",
    "import torch.nn as nn\n",
    "import torch.nn.functional as F\n",
    "import torch.optim as optim\n",
    "import torchvision\n",
    "import torchvision.transforms as transforms\n",
    "\n",
    "from threading import Thread\n",
    "from threading import Lock\n",
    "\n",
    "\n",
    "import time\n",
    "\n",
    "from tqdm import tqdm"
   ]
  },
  {
   "cell_type": "markdown",
   "metadata": {
    "pycharm": {
     "name": "#%% md\n"
    }
   },
   "source": [
    "## Cuda"
   ]
  },
  {
   "cell_type": "code",
   "execution_count": 18,
   "metadata": {
    "pycharm": {
     "name": "#%%\n"
    }
   },
   "outputs": [
    {
     "name": "stdout",
     "output_type": "stream",
     "text": [
      "cpu\n"
     ]
    }
   ],
   "source": [
    "device = torch.device(\"cuda:0\" if torch.cuda.is_available() else \"cpu\")\n",
    "print(device)"
   ]
  },
  {
   "cell_type": "markdown",
   "metadata": {
    "pycharm": {
     "name": "#%% md\n"
    }
   },
   "source": [
    "## Pytorch layer modules for *Conv1D* Network\n",
    "\n",
    "\n",
    "\n",
    "### `Conv1d` layer\n",
    "- `torch.nn.Conv1d(in_channels, out_channels, kernel_size)`\n",
    "\n",
    "### `MaxPool1d` layer\n",
    "- `torch.nn.MaxPool1d(kernel_size, stride=None)`\n",
    "- Parameter `stride` follows `kernel_size`.\n",
    "\n",
    "### `ReLU` layer\n",
    "- `torch.nn.ReLU()`\n",
    "\n",
    "### `Linear` layer\n",
    "- `torch.nn.Linear(in_features, out_features, bias=True)`\n",
    "\n",
    "### `Softmax` layer\n",
    "- `torch.nn.Softmax(dim=None)`\n",
    "- Parameter `dim` is usually set to `1`."
   ]
  },
  {
   "cell_type": "code",
   "execution_count": 19,
   "metadata": {
    "pycharm": {
     "name": "#%%\n"
    }
   },
   "outputs": [],
   "source": [
    "# -*- coding: utf-8 -*-\n",
    "\"\"\"\n",
    "Created on Thu Nov  1 14:23:31 2018\n",
    "@author: tshzzz\n",
    "\"\"\"\n",
    "\n",
    "\n",
    "\n",
    "# def conv_dw(inplane,outplane,stride=1):\n",
    "#     return nn.Sequential(\n",
    "#         nn.Conv2d(inplane,inplane,kernel_size = 3,groups = inplane,stride=stride,padding=1),\n",
    "#         nn.BatchNorm2d(inplane),\n",
    "#         nn.ReLU(),\n",
    "#         nn.Conv2d(inplane,outplane,kernel_size = 1,groups = 1,stride=1),\n",
    "#         nn.BatchNorm2d(outplane),\n",
    "#         nn.ReLU()    \n",
    "#         )\n",
    "\n",
    "# def conv_bw(inplane,outplane,kernel_size = 3,stride=1):\n",
    "#     return nn.Sequential(\n",
    "#         nn.Conv2d(inplane,outplane,kernel_size = kernel_size,groups = 1,stride=stride,padding=1),\n",
    "#         nn.BatchNorm2d(outplane),\n",
    "#         nn.ReLU() \n",
    "#         )\n",
    "\n",
    "\n",
    "# class MobileNet(nn.Module):\n",
    "    \n",
    "#     def __init__(self,num_class=10):\n",
    "#         super(MobileNet,self).__init__()\n",
    "        \n",
    "#         layers = []\n",
    "#         layers.append(conv_bw(3,32,3,1))\n",
    "#         layers.append(conv_dw(32,64,1))\n",
    "#         layers.append(conv_dw(64,128,2))\n",
    "#         layers.append(conv_dw(128,128,1))\n",
    "#         layers.append(conv_dw(128,256,2))\n",
    "#         layers.append(conv_dw(256,256,1))\n",
    "#         layers.append(conv_dw(256,512,2))\n",
    "\n",
    "#         for i in range(5):\n",
    "#             layers.append(conv_dw(512,512,1))\n",
    "#         layers.append(conv_dw(512,1024,2))\n",
    "#         layers.append(conv_dw(1024,1024,1))\n",
    "\n",
    "#         self.classifer = nn.Sequential(\n",
    "#                 nn.Dropout(0.5),\n",
    "#                 nn.Linear(1024,num_class)\n",
    "#                 )\n",
    "#         self.feature = nn.Sequential(*layers)\n",
    "        \n",
    "        \n",
    "\n",
    "#     def forward(self,x):\n",
    "#         out = self.feature(x)\n",
    "#         out = out.mean(3).mean(2)\n",
    "#         out = out.view(-1,1024)\n",
    "#         out = self.classifer(out)\n",
    "#         return out\n",
    "\n",
    "class Model(nn.Module):\n",
    "    def __init__(self):\n",
    "        super(Model, self).__init__()\n",
    "        self.model = nn.Sequential(\n",
    "            nn.Conv2d(3, 32, 5, 1, 2),\n",
    "            nn.MaxPool2d(2),\n",
    "            nn.Conv2d(32, 32, 5, 1, 2),\n",
    "            nn.MaxPool2d(2),\n",
    "            nn.Conv2d(32, 64, 5, 1, 2),\n",
    "            nn.MaxPool2d(2),\n",
    "            nn.Flatten(),\n",
    "            nn.Linear(64 * 4 * 4, 64),\n",
    "            nn.Linear(64, 10),\n",
    "        )\n",
    "\n",
    "    def forward(self, x):\n",
    "        x = self.model(x)\n",
    "        return x\n"
   ]
  },
  {
   "cell_type": "code",
   "execution_count": 20,
   "metadata": {
    "pycharm": {
     "name": "#%%\n"
    }
   },
   "outputs": [
    {
     "data": {
      "text/plain": [
       "Model(\n",
       "  (model): Sequential(\n",
       "    (0): Conv2d(3, 32, kernel_size=(5, 5), stride=(1, 1), padding=(2, 2))\n",
       "    (1): MaxPool2d(kernel_size=2, stride=2, padding=0, dilation=1, ceil_mode=False)\n",
       "    (2): Conv2d(32, 32, kernel_size=(5, 5), stride=(1, 1), padding=(2, 2))\n",
       "    (3): MaxPool2d(kernel_size=2, stride=2, padding=0, dilation=1, ceil_mode=False)\n",
       "    (4): Conv2d(32, 64, kernel_size=(5, 5), stride=(1, 1), padding=(2, 2))\n",
       "    (5): MaxPool2d(kernel_size=2, stride=2, padding=0, dilation=1, ceil_mode=False)\n",
       "    (6): Flatten(start_dim=1, end_dim=-1)\n",
       "    (7): Linear(in_features=1024, out_features=64, bias=True)\n",
       "    (8): Linear(in_features=64, out_features=10, bias=True)\n",
       "  )\n",
       ")"
      ]
     },
     "execution_count": 20,
     "metadata": {},
     "output_type": "execute_result"
    }
   ],
   "source": [
    "mobile_net = Model()\n",
    "mobile_net.to('cpu')"
   ]
  },
  {
   "cell_type": "markdown",
   "metadata": {
    "pycharm": {
     "name": "#%% md\n"
    }
   },
   "source": [
    "## variables"
   ]
  },
  {
   "cell_type": "code",
   "execution_count": 21,
   "metadata": {
    "pycharm": {
     "name": "#%%\n"
    }
   },
   "outputs": [],
   "source": [
    "import copy\n",
    "\n",
    "clientsoclist = [0]*users\n",
    "\n",
    "start_time = 0\n",
    "weight_count = 0\n",
    "\n",
    "global_weights = copy.deepcopy(mobile_net.state_dict())\n",
    "\n",
    "datasetsize = [0]*users\n",
    "weights_list = [0]*users\n",
    "\n",
    "lock = Lock()"
   ]
  },
  {
   "cell_type": "markdown",
   "metadata": {
    "pycharm": {
     "name": "#%% md\n"
    }
   },
   "source": [
    "## Comunication overhead"
   ]
  },
  {
   "cell_type": "code",
   "execution_count": 22,
   "metadata": {
    "pycharm": {
     "name": "#%%\n"
    }
   },
   "outputs": [],
   "source": [
    "total_sendsize_list = []\n",
    "total_receivesize_list = []\n",
    "\n",
    "client_sendsize_list = [[] for i in range(users)]\n",
    "client_receivesize_list = [[] for i in range(users)]\n",
    "\n",
    "train_sendsize_list = [] \n",
    "train_receivesize_list = []"
   ]
  },
  {
   "cell_type": "markdown",
   "metadata": {
    "pycharm": {
     "name": "#%% md\n"
    }
   },
   "source": [
    "## Socket initialization\n",
    "### Set host address and port number"
   ]
  },
  {
   "cell_type": "markdown",
   "metadata": {
    "pycharm": {
     "name": "#%% md\n"
    }
   },
   "source": [
    "### Required socket functions"
   ]
  },
  {
   "cell_type": "code",
   "execution_count": 23,
   "metadata": {
    "pycharm": {
     "name": "#%%\n"
    }
   },
   "outputs": [],
   "source": [
    "def send_msg(sock, msg):\n",
    "    # prefix each message with a 4-byte length in network byte order\n",
    "    msg = pickle.dumps(msg)\n",
    "    l_send = len(msg)\n",
    "    msg = struct.pack('>I', l_send) + msg\n",
    "    sock.sendall(msg)\n",
    "    return l_send\n",
    "\n",
    "def recv_msg(sock):\n",
    "    # read message length and unpack it into an integer\n",
    "    raw_msglen = recvall(sock, 4)\n",
    "    if not raw_msglen:\n",
    "        return None\n",
    "    msglen = struct.unpack('>I', raw_msglen)[0]\n",
    "    # read the message data\n",
    "    msg =  recvall(sock, msglen)\n",
    "    msg = pickle.loads(msg)\n",
    "    return msg, msglen\n",
    "\n",
    "def recvall(sock, n):\n",
    "    # helper function to receive n bytes or return None if EOF is hit\n",
    "    data = b''\n",
    "    while len(data) < n:\n",
    "        packet = sock.recv(n - len(data))\n",
    "        if not packet:\n",
    "            return None\n",
    "        data += packet\n",
    "    return data"
   ]
  },
  {
   "cell_type": "code",
   "execution_count": 24,
   "metadata": {
    "pycharm": {
     "name": "#%%\n"
    }
   },
   "outputs": [],
   "source": [
    "import copy\n",
    "\n",
    "def average_weights(w, datasize):\n",
    "    \"\"\"\n",
    "    Returns the average of the weights.\n",
    "    \"\"\"\n",
    "        \n",
    "    for i, data in enumerate(datasize):\n",
    "        for key in w[i].keys():\n",
    "            w[i][key] *= (data)\n",
    "    \n",
    "    w_avg = copy.deepcopy(w[0])\n",
    "    \n",
    "    \n",
    "\n",
    "# when client use only one kinds of device\n",
    "\n",
    "    for key in w_avg.keys():\n",
    "        for i in range(1, len(w)):\n",
    "            w_avg[key] += w[i][key]\n",
    "        w_avg[key] = torch.div(w_avg[key], (sum(datasize)))\n",
    "\n",
    "# when client use various devices (cpu, gpu) you need to use it instead\n",
    "#\n",
    "#     for key, val in w_avg.items():\n",
    "#         common_device = val.device\n",
    "#         break\n",
    "#     for key in w_avg.keys():\n",
    "#         for i in range(1, len(w)):\n",
    "#             if common_device == 'cpu':\n",
    "#                 w_avg[key] += w[i][key].cpu()\n",
    "#             else:\n",
    "#                 w_avg[key] += w[i][key].cuda()\n",
    "#         w_avg[key] = torch.div(w_avg[key], float(sum(datasize)))\n",
    "\n",
    "    return w_avg"
   ]
  },
  {
   "cell_type": "markdown",
   "metadata": {
    "pycharm": {
     "name": "#%% md\n"
    }
   },
   "source": [
    "## Thread define"
   ]
  },
  {
   "cell_type": "markdown",
   "metadata": {
    "pycharm": {
     "name": "#%% md\n"
    }
   },
   "source": [
    "## Receive users before training"
   ]
  },
  {
   "cell_type": "code",
   "execution_count": 25,
   "metadata": {
    "pycharm": {
     "name": "#%%\n"
    }
   },
   "outputs": [],
   "source": [
    "def run_thread(func, num_user):\n",
    "    global clientsoclist\n",
    "    global start_time\n",
    "    \n",
    "    thrs = []\n",
    "    for i in range(num_user):\n",
    "        conn, addr = s.accept()\n",
    "        print('Conntected with', addr)\n",
    "        # append client socket on list\n",
    "        clientsoclist[i] = conn\n",
    "        args = (i, num_user, conn)\n",
    "        thread = Thread(target=func, args=args)\n",
    "        thrs.append(thread)\n",
    "        thread.start()\n",
    "    print(\"timmer start!\")\n",
    "    start_time = time.time()    # store start time\n",
    "    for thread in thrs:\n",
    "        thread.join()\n",
    "    end_time = time.time()  # store end time\n",
    "    print(\"TrainingTime: {} sec\".format(end_time - start_time))"
   ]
  },
  {
   "cell_type": "code",
   "execution_count": 26,
   "metadata": {
    "pycharm": {
     "name": "#%%\n"
    }
   },
   "outputs": [],
   "source": [
    "def receive(userid, num_users, conn): #thread for receive clients\n",
    "    global weight_count\n",
    "    \n",
    "    global datasetsize\n",
    "\n",
    "\n",
    "    msg = {\n",
    "        'rounds': rounds,\n",
    "        'client_id': userid,\n",
    "        'local_epoch': local_epoch\n",
    "    }\n",
    "\n",
    "    datasize = send_msg(conn, msg)    #send epoch\n",
    "    total_sendsize_list.append(datasize)\n",
    "    client_sendsize_list[userid].append(datasize)\n",
    "\n",
    "    train_dataset_size, datasize = recv_msg(conn)    # get total_batch of train dataset\n",
    "    total_receivesize_list.append(datasize)\n",
    "    client_receivesize_list[userid].append(datasize)\n",
    "    \n",
    "    \n",
    "    with lock:\n",
    "        datasetsize[userid] = train_dataset_size\n",
    "        weight_count += 1\n",
    "    \n",
    "    train(userid, train_dataset_size, num_users, conn)"
   ]
  },
  {
   "cell_type": "markdown",
   "metadata": {
    "pycharm": {
     "name": "#%% md\n"
    }
   },
   "source": [
    "## Train"
   ]
  },
  {
   "cell_type": "code",
   "execution_count": 27,
   "metadata": {
    "pycharm": {
     "name": "#%%\n"
    }
   },
   "outputs": [],
   "source": [
    "def train(userid, train_dataset_size, num_users, client_conn):\n",
    "    global weights_list\n",
    "    global global_weights\n",
    "    global weight_count\n",
    "    global mobile_net\n",
    "    global val_acc\n",
    "    \n",
    "    for r in range(rounds):\n",
    "        with lock:\n",
    "            if weight_count == num_users:\n",
    "                for i, conn in enumerate(clientsoclist):\n",
    "                    datasize = send_msg(conn, global_weights)\n",
    "                    total_sendsize_list.append(datasize)\n",
    "                    client_sendsize_list[i].append(datasize)\n",
    "                    train_sendsize_list.append(datasize)\n",
    "                    weight_count = 0\n",
    "\n",
    "        client_weights, datasize = recv_msg(client_conn)\n",
    "        total_receivesize_list.append(datasize)\n",
    "        client_receivesize_list[userid].append(datasize)\n",
    "        train_receivesize_list.append(datasize)\n",
    "\n",
    "        weights_list[userid] = client_weights\n",
    "        print(\"User\" + str(userid) + \"'s Round \" + str(r + 1) +  \" is done\")\n",
    "        with lock:\n",
    "            weight_count += 1\n",
    "            if weight_count == num_users:\n",
    "                #average\n",
    "                global_weights = average_weights(weights_list, datasetsize)\n",
    "                \n",
    "        \n",
    "    "
   ]
  },
  {
   "cell_type": "code",
   "execution_count": 28,
   "metadata": {
    "pycharm": {
     "name": "#%%\n"
    }
   },
   "outputs": [
    {
     "name": "stdout",
     "output_type": "stream",
     "text": [
      "192.168.1.104 2000\n"
     ]
    }
   ],
   "source": [
    "host = '192.168.1.104'\n",
    "port = 2000\n",
    "print(host,port)"
   ]
  },
  {
   "cell_type": "code",
   "execution_count": 29,
   "metadata": {
    "pycharm": {
     "name": "#%%\n"
    }
   },
   "outputs": [],
   "source": [
    "s = socket.socket()\n",
    "s.bind((host, port))\n",
    "s.listen()"
   ]
  },
  {
   "cell_type": "code",
   "execution_count": 30,
   "metadata": {},
   "outputs": [],
   "source": [
    "# s.close()"
   ]
  },
  {
   "cell_type": "markdown",
   "metadata": {
    "pycharm": {
     "name": "#%% md\n"
    }
   },
   "source": [
    "### Open the server socket"
   ]
  },
  {
   "cell_type": "code",
   "execution_count": 31,
   "metadata": {
    "pycharm": {
     "is_executing": true,
     "name": "#%%\n"
    }
   },
   "outputs": [
    {
     "name": "stdout",
     "output_type": "stream",
     "text": [
      "Conntected with ('192.168.1.111', 33538)\n",
      "Conntected with ('192.168.1.112', 56492)\n",
      "Conntected with ('192.168.1.113', 42892)\n",
      "Conntected with ('192.168.1.114', 38052)\n",
      "Conntected with ('192.168.1.115', 44030)\n",
      "Conntected with ('192.168.1.116', 35006)\n",
      "Conntected with ('192.168.1.117', 55482)\n",
      "Conntected with ('192.168.1.118', 41914)\n",
      "timmer start!\n",
      "User4's Round 1 is done\n",
      "User5's Round 1 is done\n",
      "User6's Round 1 is done\n",
      "User7's Round 1 is done\n",
      "User3's Round 1 is done\n",
      "User1's Round 1 is done\n",
      "User2's Round 1 is done\n",
      "User0's Round 1 is done\n",
      "User4's Round 2 is done\n",
      "User3's Round 2 is done\n",
      "User5's Round 2 is done\n",
      "User7's Round 2 is done\n",
      "User6's Round 2 is done\n",
      "User2's Round 2 is done\n",
      "User1's Round 2 is done\n",
      "User0's Round 2 is done\n",
      "User3's Round 3 is done\n",
      "User4's Round 3 is done\n",
      "User5's Round 3 is done\n",
      "User7's Round 3 is done\n",
      "User6's Round 3 is done\n",
      "User1's Round 3 is done\n",
      "User2's Round 3 is done\n",
      "User0's Round 3 is done\n",
      "User7's Round 4 is done\n",
      "User3's Round 4 is done\n",
      "User6's Round 4 is done\n",
      "User4's Round 4 is done\n",
      "User5's Round 4 is done\n",
      "User1's Round 4 is done\n",
      "User2's Round 4 is done\n",
      "User0's Round 4 is done\n",
      "User3's Round 5 is done\n",
      "User7's Round 5 is done\n",
      "User4's Round 5 is done\n",
      "User5's Round 5 is done\n",
      "User6's Round 5 is done\n",
      "User1's Round 5 is done\n",
      "User2's Round 5 is done\n",
      "User0's Round 5 is done\n",
      "User7's Round 6 is done\n",
      "User4's Round 6 is done\n",
      "User3's Round 6 is done\n",
      "User5's Round 6 is done\n",
      "User6's Round 6 is done\n",
      "User2's Round 6 is done\n",
      "User1's Round 6 is done\n",
      "User0's Round 6 is done\n",
      "User3's Round 7 is done\n",
      "User4's Round 7 is done\n",
      "User5's Round 7 is done\n",
      "User7's Round 7 is done\n",
      "User6's Round 7 is done\n",
      "User2's Round 7 is done\n",
      "User1's Round 7 is done\n",
      "User0's Round 7 is done\n",
      "User7's Round 8 is done\n",
      "User3's Round 8 is done\n",
      "User4's Round 8 is done\n",
      "User6's Round 8 is done\n",
      "User5's Round 8 is done\n",
      "User1's Round 8 is done\n",
      "User2's Round 8 is done\n",
      "User0's Round 8 is done\n",
      "User7's Round 9 is done\n",
      "User3's Round 9 is done\n",
      "User4's Round 9 is done\n",
      "User5's Round 9 is done\n",
      "User6's Round 9 is done\n",
      "User1's Round 9 is done\n",
      "User2's Round 9 is done\n",
      "User0's Round 9 is done\n",
      "User7's Round 10 is done\n",
      "User3's Round 10 is done\n",
      "User5's Round 10 is done\n",
      "User6's Round 10 is done\n",
      "User4's Round 10 is done\n",
      "User1's Round 10 is done\n",
      "User2's Round 10 is done\n",
      "User0's Round 10 is done\n",
      "User4's Round 11 is done\n",
      "User5's Round 11 is done\n",
      "User6's Round 11 is done\n",
      "User7's Round 11 is done\n",
      "User3's Round 11 is done\n",
      "User1's Round 11 is done\n",
      "User2's Round 11 is done\n",
      "User0's Round 11 is done\n",
      "User4's Round 12 is done\n",
      "User7's Round 12 is done\n",
      "User5's Round 12 is done\n",
      "User6's Round 12 is done\n",
      "User3's Round 12 is done\n",
      "User1's Round 12 is done\n",
      "User2's Round 12 is done\n",
      "User0's Round 12 is done\n",
      "User4's Round 13 is done\n",
      "User7's Round 13 is done\n",
      "User5's Round 13 is done\n",
      "User3's Round 13 is done\n",
      "User6's Round 13 is done\n",
      "User2's Round 13 is done\n",
      "User1's Round 13 is done\n",
      "User0's Round 13 is done\n",
      "User3's Round 14 is done\n",
      "User7's Round 14 is done\n",
      "User5's Round 14 is done\n",
      "User4's Round 14 is done\n",
      "User6's Round 14 is done\n",
      "User1's Round 14 is done\n",
      "User2's Round 14 is done\n",
      "User0's Round 14 is done\n",
      "User4's Round 15 is done\n",
      "User7's Round 15 is done\n",
      "User3's Round 15 is done\n",
      "User5's Round 15 is done\n",
      "User6's Round 15 is done\n",
      "User2's Round 15 is done\n",
      "User1's Round 15 is done\n",
      "User0's Round 15 is done\n",
      "User7's Round 16 is done\n",
      "User4's Round 16 is done\n",
      "User3's Round 16 is done\n",
      "User5's Round 16 is done\n",
      "User6's Round 16 is done\n",
      "User1's Round 16 is done\n",
      "User2's Round 16 is done\n",
      "User0's Round 16 is done\n",
      "User7's Round 17 is done\n",
      "User4's Round 17 is done\n",
      "User5's Round 17 is done\n",
      "User6's Round 17 is done\n",
      "User3's Round 17 is done\n",
      "User2's Round 17 is done\n",
      "User1's Round 17 is done\n",
      "User0's Round 17 is done\n",
      "User7's Round 18 is done\n",
      "User4's Round 18 is done\n",
      "User6's Round 18 is done\n",
      "User5's Round 18 is done\n",
      "User3's Round 18 is done\n",
      "User1's Round 18 is done\n",
      "User2's Round 18 is done\n",
      "User0's Round 18 is done\n",
      "User7's Round 19 is done\n",
      "User6's Round 19 is done\n",
      "User5's Round 19 is done\n",
      "User4's Round 19 is done\n",
      "User3's Round 19 is done\n",
      "User1's Round 19 is done\n",
      "User2's Round 19 is done\n",
      "User0's Round 19 is done\n",
      "User7's Round 20 is done\n",
      "User3's Round 20 is done\n",
      "User4's Round 20 is done\n",
      "User5's Round 20 is done\n",
      "User6's Round 20 is done\n",
      "User2's Round 20 is done\n",
      "User1's Round 20 is done\n",
      "User0's Round 20 is done\n",
      "User7's Round 21 is done\n",
      "User5's Round 21 is done\n",
      "User6's Round 21 is done\n",
      "User4's Round 21 is done\n",
      "User3's Round 21 is done\n",
      "User2's Round 21 is done\n",
      "User1's Round 21 is done\n",
      "User0's Round 21 is done\n",
      "User7's Round 22 is done\n",
      "User4's Round 22 is done\n",
      "User3's Round 22 is done\n",
      "User6's Round 22 is done\n",
      "User5's Round 22 is done\n",
      "User1's Round 22 is done\n",
      "User2's Round 22 is done\n",
      "User0's Round 22 is done\n",
      "User7's Round 23 is done\n",
      "User5's Round 23 is done\n",
      "User6's Round 23 is done\n",
      "User4's Round 23 is done\n",
      "User3's Round 23 is done\n",
      "User1's Round 23 is done\n",
      "User2's Round 23 is done\n",
      "User0's Round 23 is done\n",
      "User4's Round 24 is done\n",
      "User7's Round 24 is done\n",
      "User5's Round 24 is done\n",
      "User6's Round 24 is done\n",
      "User3's Round 24 is done\n",
      "User2's Round 24 is done\n",
      "User1's Round 24 is done\n",
      "User0's Round 24 is done\n",
      "User6's Round 25 is done\n",
      "User7's Round 25 is done\n",
      "User5's Round 25 is done\n",
      "User4's Round 25 is done\n",
      "User3's Round 25 is done\n",
      "User1's Round 25 is done\n",
      "User2's Round 25 is done\n",
      "User0's Round 25 is done\n",
      "User7's Round 26 is done\n",
      "User4's Round 26 is done\n",
      "User6's Round 26 is done\n",
      "User3's Round 26 is done\n",
      "User5's Round 26 is done\n",
      "User2's Round 26 is done\n",
      "User1's Round 26 is done\n",
      "User0's Round 26 is done\n",
      "User7's Round 27 is done\n",
      "User4's Round 27 is done\n",
      "User6's Round 27 is done\n",
      "User5's Round 27 is done\n",
      "User3's Round 27 is done\n",
      "User1's Round 27 is done\n",
      "User2's Round 27 is done\n",
      "User0's Round 27 is done\n",
      "User7's Round 28 is done\n",
      "User5's Round 28 is done\n",
      "User6's Round 28 is done\n",
      "User4's Round 28 is done\n",
      "User3's Round 28 is done\n",
      "User1's Round 28 is done\n",
      "User2's Round 28 is done\n",
      "User0's Round 28 is done\n",
      "User7's Round 29 is done\n",
      "User4's Round 29 is done\n",
      "User6's Round 29 is done\n",
      "User5's Round 29 is done\n",
      "User3's Round 29 is done\n",
      "User2's Round 29 is done\n",
      "User1's Round 29 is done\n",
      "User0's Round 29 is done\n",
      "User7's Round 30 is done\n",
      "User4's Round 30 is done\n",
      "User5's Round 30 is done\n",
      "User6's Round 30 is done\n",
      "User3's Round 30 is done\n",
      "User2's Round 30 is done\n",
      "User1's Round 30 is done\n",
      "User0's Round 30 is done\n",
      "User7's Round 31 is done\n",
      "User5's Round 31 is done\n",
      "User4's Round 31 is done\n",
      "User3's Round 31 is done\n",
      "User6's Round 31 is done\n",
      "User2's Round 31 is done\n",
      "User1's Round 31 is done\n",
      "User0's Round 31 is done\n",
      "User7's Round 32 is done\n",
      "User6's Round 32 is done\n",
      "User3's Round 32 is done\n",
      "User4's Round 32 is done\n",
      "User5's Round 32 is done\n",
      "User1's Round 32 is done\n",
      "User2's Round 32 is done\n",
      "User0's Round 32 is done\n",
      "User7's Round 33 is done\n",
      "User4's Round 33 is done\n",
      "User5's Round 33 is done\n",
      "User6's Round 33 is done\n",
      "User3's Round 33 is done\n",
      "User1's Round 33 is done\n",
      "User2's Round 33 is done\n",
      "User0's Round 33 is done\n",
      "User7's Round 34 is done\n",
      "User6's Round 34 is done\n",
      "User3's Round 34 is done\n",
      "User4's Round 34 is done\n",
      "User5's Round 34 is done\n",
      "User1's Round 34 is done\n",
      "User2's Round 34 is done\n",
      "User0's Round 34 is done\n",
      "User7's Round 35 is done\n",
      "User4's Round 35 is done\n",
      "User5's Round 35 is done\n",
      "User6's Round 35 is done\n",
      "User3's Round 35 is done\n",
      "User2's Round 35 is done\n",
      "User1's Round 35 is done\n",
      "User0's Round 35 is done\n",
      "User7's Round 36 is done\n",
      "User4's Round 36 is done\n",
      "User6's Round 36 is done\n",
      "User3's Round 36 is done\n",
      "User5's Round 36 is done\n",
      "User2's Round 36 is done\n",
      "User1's Round 36 is done\n",
      "User0's Round 36 is done\n",
      "User7's Round 37 is done\n",
      "User6's Round 37 is done\n",
      "User5's Round 37 is done\n",
      "User4's Round 37 is done\n",
      "User3's Round 37 is done\n",
      "User1's Round 37 is done\n",
      "User2's Round 37 is done\n",
      "User0's Round 37 is done\n",
      "User7's Round 38 is done\n",
      "User4's Round 38 is done\n",
      "User6's Round 38 is done\n",
      "User3's Round 38 is done\n",
      "User5's Round 38 is done\n",
      "User1's Round 38 is done\n",
      "User2's Round 38 is done\n",
      "User0's Round 38 is done\n",
      "User7's Round 39 is done\n",
      "User4's Round 39 is done\n",
      "User3's Round 39 is done\n",
      "User6's Round 39 is done\n",
      "User5's Round 39 is done\n",
      "User1's Round 39 is done\n",
      "User2's Round 39 is done\n",
      "User0's Round 39 is done\n",
      "User7's Round 40 is done\n",
      "User4's Round 40 is done\n",
      "User5's Round 40 is done\n",
      "User6's Round 40 is done\n",
      "User3's Round 40 is done\n",
      "User1's Round 40 is done\n",
      "User2's Round 40 is done\n",
      "User0's Round 40 is done\n",
      "User7's Round 41 is done\n",
      "User6's Round 41 is done\n",
      "User4's Round 41 is done\n",
      "User5's Round 41 is done\n",
      "User3's Round 41 is done\n",
      "User1's Round 41 is done\n",
      "User2's Round 41 is done\n",
      "User0's Round 41 is done\n",
      "User7's Round 42 is done\n",
      "User4's Round 42 is done\n",
      "User5's Round 42 is done\n",
      "User6's Round 42 is done\n",
      "User3's Round 42 is done\n",
      "User2's Round 42 is done\n",
      "User1's Round 42 is done\n",
      "User0's Round 42 is done\n",
      "User7's Round 43 is done\n",
      "User4's Round 43 is done\n",
      "User5's Round 43 is done\n",
      "User6's Round 43 is done\n",
      "User3's Round 43 is done\n",
      "User2's Round 43 is done\n",
      "User1's Round 43 is done\n",
      "User0's Round 43 is done\n",
      "User7's Round 44 is done\n",
      "User4's Round 44 is done\n",
      "User5's Round 44 is done\n",
      "User3's Round 44 is done\n",
      "User6's Round 44 is done\n",
      "User1's Round 44 is done\n",
      "User2's Round 44 is done\n",
      "User0's Round 44 is done\n",
      "User7's Round 45 is done\n",
      "User5's Round 45 is done\n",
      "User4's Round 45 is done\n",
      "User3's Round 45 is done\n",
      "User6's Round 45 is done\n",
      "User2's Round 45 is done\n",
      "User1's Round 45 is done\n",
      "User0's Round 45 is done\n",
      "User7's Round 46 is done\n",
      "User6's Round 46 is done\n",
      "User5's Round 46 is done\n",
      "User4's Round 46 is done\n",
      "User3's Round 46 is done\n",
      "User2's Round 46 is done\n",
      "User1's Round 46 is done\n",
      "User0's Round 46 is done\n",
      "User6's Round 47 is done\n",
      "User7's Round 47 is done\n",
      "User4's Round 47 is done\n",
      "User5's Round 47 is done\n",
      "User3's Round 47 is done\n",
      "User2's Round 47 is done\n",
      "User1's Round 47 is done\n",
      "User0's Round 47 is done\n",
      "User7's Round 48 is done\n",
      "User4's Round 48 is done\n",
      "User5's Round 48 is done\n",
      "User6's Round 48 is done\n",
      "User3's Round 48 is done\n",
      "User1's Round 48 is done\n",
      "User2's Round 48 is done\n",
      "User0's Round 48 is done\n",
      "User4's Round 49 is done\n",
      "User6's Round 49 is done\n",
      "User7's Round 49 is done\n",
      "User3's Round 49 is done\n",
      "User5's Round 49 is done\n",
      "User2's Round 49 is done\n",
      "User1's Round 49 is done\n",
      "User0's Round 49 is done\n",
      "User7's Round 50 is done\n",
      "User4's Round 50 is done\n",
      "User5's Round 50 is done\n",
      "User6's Round 50 is done\n",
      "User3's Round 50 is done\n",
      "User1's Round 50 is done\n",
      "User2's Round 50 is done\n",
      "User0's Round 50 is done\n",
      "TrainingTime: 2994.0064153671265 sec\n"
     ]
    }
   ],
   "source": [
    "run_thread(receive, users)"
   ]
  },
  {
   "cell_type": "code",
   "execution_count": 32,
   "metadata": {
    "pycharm": {
     "is_executing": true,
     "name": "#%%\n"
    }
   },
   "outputs": [
    {
     "name": "stdout",
     "output_type": "stream",
     "text": [
      "TrainingTime: 2994.0973851680756 sec\n"
     ]
    }
   ],
   "source": [
    "end_time = time.time()  # store end time\n",
    "print(\"TrainingTime: {} sec\".format(end_time - start_time))"
   ]
  },
  {
   "cell_type": "markdown",
   "metadata": {
    "pycharm": {
     "name": "#%% md\n"
    }
   },
   "source": [
    "## Print all of communication overhead"
   ]
  },
  {
   "cell_type": "code",
   "execution_count": 33,
   "metadata": {
    "pycharm": {
     "is_executing": true,
     "name": "#%%\n"
    }
   },
   "outputs": [
    {
     "name": "stdout",
     "output_type": "stream",
     "text": [
      "\n",
      "\n",
      "---total_sendsize_list---\n",
      "total_sendsize size: 234305992 bytes\n",
      "number of total_send:  408\n",
      "\n",
      "\n",
      "---total_receivesize_list---\n",
      "total receive sizes: 234257920 bytes\n",
      "number of total receive:  408\n",
      "\n",
      "\n",
      "---client_sendsize_list(user0)---\n",
      "total client_sendsizes(user0): 29288249 bytes\n",
      "number of client_send(user0):  51\n",
      "\n",
      "\n",
      "---client_receivesize_list(user0)---\n",
      "total client_receive sizes(user0): 29282365 bytes\n",
      "number of client_send(user0):  51\n",
      "\n",
      "\n",
      "---client_sendsize_list(user1)---\n",
      "total client_sendsizes(user1): 29288249 bytes\n",
      "number of client_send(user1):  51\n",
      "\n",
      "\n",
      "---client_receivesize_list(user1)---\n",
      "total client_receive sizes(user1): 29282365 bytes\n",
      "number of client_send(user1):  51\n",
      "\n",
      "\n",
      "---client_sendsize_list(user2)---\n",
      "total client_sendsizes(user2): 29288249 bytes\n",
      "number of client_send(user2):  51\n",
      "\n",
      "\n",
      "---client_receivesize_list(user2)---\n",
      "total client_receive sizes(user2): 29282365 bytes\n",
      "number of client_send(user2):  51\n",
      "\n",
      "\n",
      "---client_sendsize_list(user3)---\n",
      "total client_sendsizes(user3): 29288249 bytes\n",
      "number of client_send(user3):  51\n",
      "\n",
      "\n",
      "---client_receivesize_list(user3)---\n",
      "total client_receive sizes(user3): 29282365 bytes\n",
      "number of client_send(user3):  51\n",
      "\n",
      "\n",
      "---client_sendsize_list(user4)---\n",
      "total client_sendsizes(user4): 29288249 bytes\n",
      "number of client_send(user4):  51\n",
      "\n",
      "\n",
      "---client_receivesize_list(user4)---\n",
      "total client_receive sizes(user4): 29282365 bytes\n",
      "number of client_send(user4):  51\n",
      "\n",
      "\n",
      "---client_sendsize_list(user5)---\n",
      "total client_sendsizes(user5): 29288249 bytes\n",
      "number of client_send(user5):  51\n",
      "\n",
      "\n",
      "---client_receivesize_list(user5)---\n",
      "total client_receive sizes(user5): 29281365 bytes\n",
      "number of client_send(user5):  51\n",
      "\n",
      "\n",
      "---client_sendsize_list(user6)---\n",
      "total client_sendsizes(user6): 29288249 bytes\n",
      "number of client_send(user6):  51\n",
      "\n",
      "\n",
      "---client_receivesize_list(user6)---\n",
      "total client_receive sizes(user6): 29282365 bytes\n",
      "number of client_send(user6):  51\n",
      "\n",
      "\n",
      "---client_sendsize_list(user7)---\n",
      "total client_sendsizes(user7): 29288249 bytes\n",
      "number of client_send(user7):  51\n",
      "\n",
      "\n",
      "---client_receivesize_list(user7)---\n",
      "total client_receive sizes(user7): 29282365 bytes\n",
      "number of client_send(user7):  51\n",
      "\n",
      "\n",
      "---train_sendsize_list---\n",
      "total train_sendsizes: 234305536 bytes\n",
      "number of train_send:  400\n",
      "\n",
      "\n",
      "---train_receivesize_list---\n",
      "total train_receivesizes: 234257800 bytes\n",
      "number of train_receive:  400\n",
      "\n",
      "\n"
     ]
    }
   ],
   "source": [
    "# def commmunication_overhead():  \n",
    "print('\\n')\n",
    "print('---total_sendsize_list---')\n",
    "total_size = 0\n",
    "for size in total_sendsize_list:\n",
    "#     print(size)\n",
    "    total_size += size\n",
    "print(\"total_sendsize size: {} bytes\".format(total_size))\n",
    "print(\"number of total_send: \", len(total_sendsize_list))\n",
    "print('\\n')\n",
    "\n",
    "print('---total_receivesize_list---')\n",
    "total_size = 0\n",
    "for size in total_receivesize_list:\n",
    "#     print(size)\n",
    "    total_size += size\n",
    "print(\"total receive sizes: {} bytes\".format(total_size) )\n",
    "print(\"number of total receive: \", len(total_receivesize_list) )\n",
    "print('\\n')\n",
    "\n",
    "for i in range(users):\n",
    "    print('---client_sendsize_list(user{})---'.format(i))\n",
    "    total_size = 0\n",
    "    for size in client_sendsize_list[i]:\n",
    "#         print(size)\n",
    "        total_size += size\n",
    "    print(\"total client_sendsizes(user{}): {} bytes\".format(i, total_size))\n",
    "    print(\"number of client_send(user{}): \".format(i), len(client_sendsize_list[i]))\n",
    "    print('\\n')\n",
    "\n",
    "    print('---client_receivesize_list(user{})---'.format(i))\n",
    "    total_size = 0\n",
    "    for size in client_receivesize_list[i]:\n",
    "#         print(size)\n",
    "        total_size += size\n",
    "    print(\"total client_receive sizes(user{}): {} bytes\".format(i, total_size))\n",
    "    print(\"number of client_send(user{}): \".format(i), len(client_receivesize_list[i]))\n",
    "    print('\\n')\n",
    "\n",
    "print('---train_sendsize_list---')\n",
    "total_size = 0\n",
    "for size in train_sendsize_list:\n",
    "#     print(size)\n",
    "    total_size += size\n",
    "print(\"total train_sendsizes: {} bytes\".format(total_size))\n",
    "print(\"number of train_send: \", len(train_sendsize_list) )\n",
    "print('\\n')\n",
    "\n",
    "print('---train_receivesize_list---')\n",
    "total_size = 0\n",
    "for size in train_receivesize_list:\n",
    "#     print(size)\n",
    "    total_size += size\n",
    "print(\"total train_receivesizes: {} bytes\".format(total_size))\n",
    "print(\"number of train_receive: \", len(train_receivesize_list) )\n",
    "print('\\n')\n"
   ]
  },
  {
   "cell_type": "code",
   "execution_count": 34,
   "metadata": {
    "pycharm": {
     "is_executing": true,
     "name": "#%%\n"
    }
   },
   "outputs": [],
   "source": [
    "root_path = '../../models/cifar10_data'"
   ]
  },
  {
   "cell_type": "code",
   "execution_count": 35,
   "metadata": {
    "pycharm": {
     "is_executing": true,
     "name": "#%%\n"
    }
   },
   "outputs": [],
   "source": [
    "from torch.utils.data import Dataset, DataLoader"
   ]
  },
  {
   "cell_type": "code",
   "execution_count": 36,
   "metadata": {
    "pycharm": {
     "is_executing": true,
     "name": "#%%\n"
    }
   },
   "outputs": [],
   "source": [
    "transform = transforms.Compose([transforms.ToTensor(), transforms.Normalize((0.4914, 0.4822, 0.4465), (0.2470, 0.2435, 0.2616))])"
   ]
  },
  {
   "cell_type": "markdown",
   "metadata": {
    "pycharm": {
     "name": "#%% md\n"
    }
   },
   "source": [
    "## Making Batch Generator"
   ]
  },
  {
   "cell_type": "code",
   "execution_count": 37,
   "metadata": {},
   "outputs": [],
   "source": [
    "batch_size=32"
   ]
  },
  {
   "cell_type": "code",
   "execution_count": 38,
   "metadata": {
    "pycharm": {
     "is_executing": true,
     "name": "#%%\n"
    }
   },
   "outputs": [
    {
     "name": "stdout",
     "output_type": "stream",
     "text": [
      "Files already downloaded and verified\n",
      "Files already downloaded and verified\n"
     ]
    }
   ],
   "source": [
    "trainset = torchvision.datasets.CIFAR10 (root=root_path, train=True, download=True, transform=transform)\n",
    "trainloader = torch.utils.data.DataLoader(trainset, batch_size=batch_size, shuffle=True, num_workers=2)\n",
    "\n",
    "testset = torchvision.datasets.CIFAR10 (root=root_path, train=False, download=True, transform=transform)\n",
    "testloader = torch.utils.data.DataLoader(testset, batch_size=batch_size, shuffle=False, num_workers=2)"
   ]
  },
  {
   "cell_type": "code",
   "execution_count": 39,
   "metadata": {
    "pycharm": {
     "is_executing": true,
     "name": "#%%\n"
    }
   },
   "outputs": [],
   "source": [
    "classes = ('plane', 'car', 'bird', 'cat', 'deer', 'dog', 'frog', 'horse', 'ship', 'truck')"
   ]
  },
  {
   "cell_type": "markdown",
   "metadata": {
    "pycharm": {
     "name": "#%% md\n"
    }
   },
   "source": [
    "### `DataLoader` for batch generating\n",
    "`torch.utils.data.DataLoader(dataset, batch_size=1, shuffle=False)`"
   ]
  },
  {
   "cell_type": "markdown",
   "metadata": {
    "pycharm": {
     "name": "#%% md\n"
    }
   },
   "source": [
    "### Number of total batches"
   ]
  },
  {
   "cell_type": "code",
   "execution_count": 40,
   "metadata": {
    "pycharm": {
     "is_executing": true,
     "name": "#%%\n"
    }
   },
   "outputs": [
    {
     "name": "stdout",
     "output_type": "stream",
     "text": [
      "1563\n",
      "313\n"
     ]
    }
   ],
   "source": [
    "train_total_batch = len(trainloader)\n",
    "print(train_total_batch)\n",
    "test_batch = len(testloader)\n",
    "print(test_batch)"
   ]
  },
  {
   "cell_type": "code",
   "execution_count": 41,
   "metadata": {
    "pycharm": {
     "is_executing": true,
     "name": "#%%\n"
    }
   },
   "outputs": [],
   "source": [
    "mobile_net.load_state_dict(global_weights)\n",
    "mobile_net.eval()\n",
    "mobile_net = mobile_net.to(device)\n",
    "\n",
    "lr = 0.001\n",
    "optimizer = optim.SGD(mobile_net.parameters(), lr=lr, momentum=0.9)\n",
    "criterion = nn.CrossEntropyLoss()"
   ]
  },
  {
   "cell_type": "markdown",
   "metadata": {
    "pycharm": {
     "name": "#%% md\n"
    }
   },
   "source": [
    "## Accuracy of train and each of classes"
   ]
  },
  {
   "cell_type": "code",
   "execution_count": 42,
   "metadata": {
    "pycharm": {
     "is_executing": true,
     "name": "#%%\n"
    }
   },
   "outputs": [
    {
     "name": "stdout",
     "output_type": "stream",
     "text": [
      "train_acc: 77.45%, train_loss: 0.6731\n",
      "test_acc: 69.77%, test_loss: 0.8998\n",
      "Accuracy of plane : 72 %\n",
      "Accuracy of   car : 81 %\n",
      "Accuracy of  bird : 55 %\n",
      "Accuracy of   cat : 51 %\n",
      "Accuracy of  deer : 62 %\n",
      "Accuracy of   dog : 59 %\n",
      "Accuracy of  frog : 80 %\n",
      "Accuracy of horse : 76 %\n",
      "Accuracy of  ship : 79 %\n",
      "Accuracy of truck : 79 %\n",
      "WorkingTime: 3036.774134159088 sec\n"
     ]
    }
   ],
   "source": [
    "# train acc\n",
    "with torch.no_grad():\n",
    "    corr_num = 0\n",
    "    total_num = 0\n",
    "    train_loss = 0.0\n",
    "    for j, trn in enumerate(trainloader):\n",
    "        trn_x, trn_label = trn\n",
    "        trn_x = trn_x.to(device)\n",
    "        trn_label = trn_label.clone().detach().long().to(device)\n",
    "\n",
    "        trn_output = mobile_net(trn_x)\n",
    "        loss = criterion(trn_output, trn_label)\n",
    "        train_loss += loss.item()\n",
    "        model_label = trn_output.argmax(dim=1)\n",
    "        corr = trn_label[trn_label == model_label].size(0)\n",
    "        corr_num += corr\n",
    "        total_num += trn_label.size(0)\n",
    "    print(\"train_acc: {:.2f}%, train_loss: {:.4f}\".format(corr_num / total_num * 100, train_loss / len(trainloader)))\n",
    "\n",
    "\n",
    "# test acc\n",
    "with torch.no_grad():\n",
    "    corr_num = 0\n",
    "    total_num = 0\n",
    "    val_loss = 0.0\n",
    "    for j, val in enumerate(testloader):\n",
    "        val_x, val_label = val\n",
    "        val_x = val_x.to(device)\n",
    "        val_label = val_label.clone().detach().long().to(device)\n",
    "\n",
    "        val_output = mobile_net(val_x)\n",
    "        loss = criterion(val_output, val_label)\n",
    "        val_loss += loss.item()\n",
    "        model_label = val_output.argmax(dim=1)\n",
    "        corr = val_label[val_label == model_label].size(0)\n",
    "        corr_num += corr\n",
    "        total_num += val_label.size(0)\n",
    "        accuracy = corr_num / total_num * 100\n",
    "        test_loss = val_loss / len(testloader)\n",
    "    print(\"test_acc: {:.2f}%, test_loss: {:.4f}\".format( accuracy, test_loss))\n",
    "\n",
    "# acc of each acc    \n",
    "class_correct = list(0. for i in range(10))\n",
    "class_total = list(0. for i in range(10))\n",
    "\n",
    "with torch.no_grad():\n",
    "    for data in testloader:\n",
    "        x, labels = data\n",
    "        x = x.to(device)\n",
    "        labels = labels.to(device)\n",
    "\n",
    "        outputs = mobile_net(x)\n",
    "        labels = labels.long()\n",
    "        _, predicted = torch.max(outputs, 1)\n",
    "        c = (predicted == labels).squeeze()\n",
    "        for i in range(len(labels)):\n",
    "            label = labels[i]\n",
    "            class_correct[label] += c[i].item()\n",
    "            class_total[label] += 1\n",
    "\n",
    "\n",
    "for i in range(10):\n",
    "    print('Accuracy of %5s : %2d %%' % (\n",
    "        classes[i], 100 * class_correct[i] / class_total[i]))\n",
    "\n",
    "# Let's quickly save our trained model:\n",
    "PATH = './cifar10_fd_mobile.pth'\n",
    "torch.save(mobile_net.state_dict(), PATH)\n",
    "\n",
    "end_time = time.time()  # store end time\n",
    "print(\"WorkingTime: {} sec\".format(end_time - start_time))"
   ]
  }
 ],
 "metadata": {
  "kernelspec": {
   "display_name": "Python 3.9.13 ('raspi')",
   "language": "python",
   "name": "python3"
  },
  "language_info": {
   "codemirror_mode": {
    "name": "ipython",
    "version": 3
   },
   "file_extension": ".py",
   "mimetype": "text/x-python",
   "name": "python",
   "nbconvert_exporter": "python",
   "pygments_lexer": "ipython3",
   "version": "3.9.13"
  },
  "vscode": {
   "interpreter": {
    "hash": "18130e8b7df255a9e4715922ef5562126427c2cf5dea9fae05bc55150766c44c"
   }
  }
 },
 "nbformat": 4,
 "nbformat_minor": 2
}
